{
 "cells": [
  {
   "cell_type": "code",
   "execution_count": 1,
   "metadata": {},
   "outputs": [],
   "source": [
    "import numpy as np"
   ]
  },
  {
   "cell_type": "code",
   "execution_count": 18,
   "metadata": {},
   "outputs": [],
   "source": [
    "def calculate(list):\n",
    "    try:\n",
    "            x = np.array(list).reshape(3,3)\n",
    "            x_f = x.flatten()\n",
    "            calculations = {\n",
    "                'mean': [np.mean(x, axis=0), np.mean(x, axis=1), np.mean(x_f)],\n",
    "                'variance':[np.var(x, axis=0), np.var(x, axis=1), np.var(x_f)],\n",
    "                'standard deviation':[np.std(x, axis=0), np.std(x, axis=1), np.std(x_f)],\n",
    "                'max':[np.max(x, axis=0), np.max(x, axis=1), np.max(x_f)],\n",
    "                'min':[np.min(x, axis=0), np.min(x, axis=1), np.min(x_f)],\n",
    "                'sum':[np.sum(x, axis=0), np.sum(x, axis=1), np.sum(x_f)]\n",
    "            }\n",
    "            return calculations\n",
    "        \n",
    "    \n",
    "    except ValueError:\n",
    "        print('List must contain nine numbers')\n",
    "\n",
    "\n",
    "\n",
    "\n",
    "\n",
    "        \n",
    "   "
   ]
  },
  {
   "cell_type": "code",
   "execution_count": 19,
   "metadata": {},
   "outputs": [
    {
     "data": {
      "text/plain": [
       "{'mean': [array([3., 4., 5.]), array([1., 4., 7.]), 4.0],\n",
       " 'variance': [array([6., 6., 6.]),\n",
       "  array([0.66666667, 0.66666667, 0.66666667]),\n",
       "  6.666666666666667],\n",
       " 'standard deviation': [array([2.44948974, 2.44948974, 2.44948974]),\n",
       "  array([0.81649658, 0.81649658, 0.81649658]),\n",
       "  2.581988897471611],\n",
       " 'max': [array([6, 7, 8]), array([2, 5, 8]), 8],\n",
       " 'min': [array([0, 1, 2]), array([0, 3, 6]), 0],\n",
       " 'sum': [array([ 9, 12, 15]), array([ 3, 12, 21]), 36]}"
      ]
     },
     "execution_count": 19,
     "metadata": {},
     "output_type": "execute_result"
    }
   ],
   "source": [
    "calculate([0,1,2,3,4,5,6,7,8])"
   ]
  },
  {
   "cell_type": "code",
   "execution_count": 21,
   "metadata": {},
   "outputs": [
    {
     "data": {
      "text/plain": [
       "{'mean': [array([13., 14., 15.]), array([11., 14., 17.]), 14.0],\n",
       " 'variance': [array([6., 6., 6.]),\n",
       "  array([0.66666667, 0.66666667, 0.66666667]),\n",
       "  6.666666666666667],\n",
       " 'standard deviation': [array([2.44948974, 2.44948974, 2.44948974]),\n",
       "  array([0.81649658, 0.81649658, 0.81649658]),\n",
       "  2.581988897471611],\n",
       " 'max': [array([16, 17, 18]), array([12, 15, 18]), 18],\n",
       " 'min': [array([10, 11, 12]), array([10, 13, 16]), 10],\n",
       " 'sum': [array([39, 42, 45]), array([33, 42, 51]), 126]}"
      ]
     },
     "execution_count": 21,
     "metadata": {},
     "output_type": "execute_result"
    }
   ],
   "source": [
    "calculate([10,11,12,13,14,15,16,17,18])"
   ]
  },
  {
   "cell_type": "code",
   "execution_count": 20,
   "metadata": {},
   "outputs": [
    {
     "name": "stdout",
     "output_type": "stream",
     "text": [
      "List must contain nine numbers\n"
     ]
    }
   ],
   "source": [
    "calculate([0,1,2,3,4,5,6,7])"
   ]
  }
 ],
 "metadata": {
  "kernelspec": {
   "display_name": "Python 3.9.7 ('base')",
   "language": "python",
   "name": "python3"
  },
  "language_info": {
   "codemirror_mode": {
    "name": "ipython",
    "version": 3
   },
   "file_extension": ".py",
   "mimetype": "text/x-python",
   "name": "python",
   "nbconvert_exporter": "python",
   "pygments_lexer": "ipython3",
   "version": "3.9.7"
  },
  "orig_nbformat": 4,
  "vscode": {
   "interpreter": {
    "hash": "9553221e3cd6dbbd0bc83b2e5935ebcf85afe577354e119cfb2a0dd87c84105f"
   }
  }
 },
 "nbformat": 4,
 "nbformat_minor": 2
}
