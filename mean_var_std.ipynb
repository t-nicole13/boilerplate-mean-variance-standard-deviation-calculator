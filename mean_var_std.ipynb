{
 "cells": [
  {
   "cell_type": "code",
   "execution_count": 1,
   "metadata": {},
   "outputs": [],
   "source": [
    "import numpy as np"
   ]
  },
  {
   "cell_type": "code",
   "execution_count": 27,
   "metadata": {},
   "outputs": [],
   "source": [
    "def calculate(list):\n",
    "    try:\n",
    "            x = np.array(list).reshape(3,3)\n",
    "            x_f = x.flatten()\n",
    "            calculations = {\n",
    "                'mean': [np.mean(x, axis=0).tolist(), np.mean(x, axis=1).tolist(), np.mean(x_f).tolist()],\n",
    "                'variance':[np.var(x, axis=0).tolist(), np.var(x, axis=1).tolist(), np.var(x_f).tolist()],\n",
    "                'standard deviation':[np.std(x, axis=0).tolist(), np.std(x, axis=1).tolist(), np.std(x_f).tolist()],\n",
    "                'max':[np.max(x, axis=0).tolist(), np.max(x, axis=1).tolist(), np.max(x_f).tolist()],\n",
    "                'min':[np.min(x, axis=0).tolist(), np.min(x, axis=1).tolist(), np.min(x_f).tolist()],\n",
    "                'sum':[np.sum(x, axis=0).tolist(), np.sum(x, axis=1).tolist(), np.sum(x_f).tolist()]\n",
    "            }\n",
    "            return calculations\n",
    "        \n",
    "    \n",
    "    except ValueError:\n",
    "        print('List must contain nine numbers')\n",
    "\n",
    "\n",
    "\n",
    "\n",
    "\n",
    "        \n",
    "   "
   ]
  },
  {
   "cell_type": "code",
   "execution_count": 30,
   "metadata": {},
   "outputs": [
    {
     "data": {
      "text/plain": [
       "{'mean': [[3.0, 4.0, 5.0], [1.0, 4.0, 7.0], 4.0],\n",
       " 'variance': [[6.0, 6.0, 6.0],\n",
       "  [0.6666666666666666, 0.6666666666666666, 0.6666666666666666],\n",
       "  6.666666666666667],\n",
       " 'standard deviation': [[2.449489742783178,\n",
       "   2.449489742783178,\n",
       "   2.449489742783178],\n",
       "  [0.816496580927726, 0.816496580927726, 0.816496580927726],\n",
       "  2.581988897471611],\n",
       " 'max': [[6, 7, 8], [2, 5, 8], 8],\n",
       " 'min': [[0, 1, 2], [0, 3, 6], 0],\n",
       " 'sum': [[9, 12, 15], [3, 12, 21], 36]}"
      ]
     },
     "execution_count": 30,
     "metadata": {},
     "output_type": "execute_result"
    }
   ],
   "source": [
    "calculate([0,1,2,3,4,5,6,7,8])"
   ]
  },
  {
   "cell_type": "code",
   "execution_count": 29,
   "metadata": {},
   "outputs": [
    {
     "data": {
      "text/plain": [
       "{'mean': [[13.0, 14.0, 15.0], [11.0, 14.0, 17.0], 14.0],\n",
       " 'variance': [[6.0, 6.0, 6.0],\n",
       "  [0.6666666666666666, 0.6666666666666666, 0.6666666666666666],\n",
       "  6.666666666666667],\n",
       " 'standard deviation': [[2.449489742783178,\n",
       "   2.449489742783178,\n",
       "   2.449489742783178],\n",
       "  [0.816496580927726, 0.816496580927726, 0.816496580927726],\n",
       "  2.581988897471611],\n",
       " 'max': [[16, 17, 18], [12, 15, 18], 18],\n",
       " 'min': [[10, 11, 12], [10, 13, 16], 10],\n",
       " 'sum': [[39, 42, 45], [33, 42, 51], 126]}"
      ]
     },
     "execution_count": 29,
     "metadata": {},
     "output_type": "execute_result"
    }
   ],
   "source": [
    "calculate([10,11,12,13,14,15,16,17,18])"
   ]
  },
  {
   "cell_type": "code",
   "execution_count": 28,
   "metadata": {},
   "outputs": [
    {
     "data": {
      "text/plain": [
       "{'mean': [[13.0, 14.0, 15.0], [11.0, 14.0, 17.0], 14.0],\n",
       " 'variance': [[6.0, 6.0, 6.0],\n",
       "  [0.6666666666666666, 0.6666666666666666, 0.6666666666666666],\n",
       "  6.666666666666667],\n",
       " 'standard deviation': [[2.449489742783178,\n",
       "   2.449489742783178,\n",
       "   2.449489742783178],\n",
       "  [0.816496580927726, 0.816496580927726, 0.816496580927726],\n",
       "  2.581988897471611],\n",
       " 'max': [[16, 17, 18], [12, 15, 18], 18],\n",
       " 'min': [[10, 11, 12], [10, 13, 16], 10],\n",
       " 'sum': [[39, 42, 45], [33, 42, 51], 126]}"
      ]
     },
     "execution_count": 28,
     "metadata": {},
     "output_type": "execute_result"
    }
   ],
   "source": [
    "calculate([10,11,12,13,14,15,16,17,18])"
   ]
  },
  {
   "cell_type": "code",
   "execution_count": 20,
   "metadata": {},
   "outputs": [
    {
     "name": "stdout",
     "output_type": "stream",
     "text": [
      "List must contain nine numbers\n"
     ]
    }
   ],
   "source": [
    "calculate([0,1,2,3,4,5,6,7])"
   ]
  }
 ],
 "metadata": {
  "kernelspec": {
   "display_name": "Python 3.9.7 ('base')",
   "language": "python",
   "name": "python3"
  },
  "language_info": {
   "codemirror_mode": {
    "name": "ipython",
    "version": 3
   },
   "file_extension": ".py",
   "mimetype": "text/x-python",
   "name": "python",
   "nbconvert_exporter": "python",
   "pygments_lexer": "ipython3",
   "version": "3.9.7"
  },
  "orig_nbformat": 4,
  "vscode": {
   "interpreter": {
    "hash": "9553221e3cd6dbbd0bc83b2e5935ebcf85afe577354e119cfb2a0dd87c84105f"
   }
  }
 },
 "nbformat": 4,
 "nbformat_minor": 2
}
